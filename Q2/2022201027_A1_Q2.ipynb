{
 "cells": [
  {
   "cell_type": "markdown",
   "id": "63ab7c40-c0da-4b75-a7b6-3822523f7218",
   "metadata": {},
   "source": [
    "# Assignment 1\n",
    "\n",
    "## Question `2` (Decision Trees)\n",
    "\n",
    "| | |\n",
    "|-|-|\n",
    "| Course | Statistical Methods in AI |\n",
    "| Release Date | `19.01.2023` |\n",
    "| Due Date | `29.01.2023` |\n",
    "\n",
    "This assignment will have you working and experimenting with decision trees. Initially, you will be required to implement a decision tree classifier by choosing thresholds based on various impurity measures and reporting the scores. Later, you can experiment with the `scikit-learn` implementation of decision trees, and how various other parameters can be leveraged for better performance.\n",
    "\n",
    "The dataset is a very simple one, the [banknote authentication dataset](https://archive.ics.uci.edu/ml/datasets/banknote+authentication). It has 5 columns, the first 4 are the features, and the last one is the class label. The features are the variance, skewness, curtosis and entropy of the [wavelet transformed](https://en.wikipedia.org/wiki/Wavelet_transform) image of the banknote. The class label is 1 if the banknote is authentic, and 0 if it is forged. The data is present in `bankAuth.txt`. There are a total of 1372 samples in the dataset."
   ]
  },
  {
   "cell_type": "markdown",
   "id": "a2422c78-b240-48ca-b6a0-cc8b88562670",
   "metadata": {},
   "source": [
    "### Imports"
   ]
  },
  {
   "cell_type": "code",
   "execution_count": 9,
   "id": "01616b64-1baa-4cda-9894-5ffac51ec662",
   "metadata": {},
   "outputs": [],
   "source": [
    "import numpy as np\n",
    "import pandas as pd\n",
    "import matplotlib.pyplot as plt\n",
    "\n",
    "# additional imports if necessary"
   ]
  },
  {
   "cell_type": "markdown",
   "id": "5653b9d8-2250-4b8e-820f-71ba9ccd5cf9",
   "metadata": {},
   "source": [
    "### Impurity Measures\n",
    "\n",
    "Decision trees are only as good as the impurity measure used to choose the best split. In this section, you will be required to implement the following impurity measures and use them to build a decision tree classifier.\n",
    "\n",
    "1. Gini Index\n",
    "2. Entropy\n",
    "3. Misclassification Error\n",
    "4. Log Loss\n",
    "\n",
    "Write functions that calculate the impurity measures for a given set of labels. The functions should take in a list of labels and return the impurity measure."
   ]
  },
  {
   "cell_type": "code",
   "execution_count": 155,
   "id": "6a37b889-d182-441a-b7ae-0803e65aff51",
   "metadata": {},
   "outputs": [],
   "source": [
    "# your code here\n",
    "impurity_type = 'entropy'\n",
    "\n",
    "def impurity(labels,loss_type='entropy'):\n",
    "    c_pos = 0\n",
    "    c_neg = 0\n",
    "    for label in labels:\n",
    "        if label==1:\n",
    "            c_pos+=1\n",
    "        else:\n",
    "            c_neg+=1\n",
    "        \n",
    "    p = float(c_pos)/float(c_pos+c_neg)\n",
    "\n",
    "    # print(\"Len \",len(x))\n",
    "    if loss_type=='entropy':\n",
    "        if p==0 or p==1:\n",
    "            return 0\n",
    "        return 0-(p*np.log2(p)+(1-p)*np.log2(1-p))\n",
    "    elif loss_type=='gini':\n",
    "        return 1-(p*p+(1-p)*(1-p))\n",
    "    elif loss_type=='misclassific':\n",
    "        p = p if (c_neg>c_pos) else 1-p\n",
    "        return p\n",
    "    elif loss_type=='log_loss':\n",
    "        if p==0 or p==1:\n",
    "            return 0\n",
    "        p = p if (c_neg<=c_pos) else 1-p\n",
    "        return 0-(p*np.log2(p))\n",
    "\n",
    "def delta(x,threshold,feature):\n",
    "    c_pos = 0\n",
    "    c_neg = 0\n",
    "    u_pos = 0\n",
    "    u_neg = 0\n",
    "    label = x[:,-1]\n",
    "    before = impurity(label,loss_type=\"gini\")\n",
    "    if before==0:\n",
    "        return 0,0,0   #pure node\n",
    "    left_node = []\n",
    "    right_node = []\n",
    "    for i,banknote in enumerate(x):\n",
    "        if banknote[feature]<threshold:\n",
    "            left_node.append(label[i])\n",
    "        else:\n",
    "            right_node.append(label[i])\n",
    "        \n",
    "    n = float(len(x))\n",
    "    after = (float(len(left_node))/n)*impurity(left_node,loss_type=\"gini\")+(float(len(right_node))/n)*impurity(right_node,loss_type=\"gini\")\n",
    "    return after-before,before,after\n",
    "    # print(\"Len \",len(x))\n",
    "    \n"
   ]
  },
  {
   "cell_type": "markdown",
   "id": "a6bfcc68-388e-4da8-ad87-270ef1212cdc",
   "metadata": {},
   "source": [
    "### Decision Tree\n",
    "\n",
    "Fit a decision tree using any one of the above impurity measures with a depth of 3. This means you will have eight leaf nodes and seven internal nodes. Report the threshold values at each internal node and the impurity measure at the final leaf node with the label. Also report the accuracy of the classifier on the training and test data (instructions for splitting the data will be given in the end)."
   ]
  },
  {
   "cell_type": "code",
   "execution_count": 157,
   "id": "3939308e-294f-4d0e-a1af-1589906d5129",
   "metadata": {},
   "outputs": [],
   "source": [
    "# your code here\n",
    "\n",
    "features = ['var','skew','curt','ent']\n",
    "def decision_tree(X_train,depth=3):\n",
    "    mn = 0\n",
    "    \n",
    "    X_set = [X_train]\n",
    "    ordered = []\n",
    "    val, count = np.unique(X_train[:,-1],return_counts=True)\n",
    "    if len(val)==1:\n",
    "        counter = [count[0],0] if val[0]==0 else [0,count[0]]\n",
    "    else:\n",
    "        counter = count\n",
    "    prev = [counter]\n",
    "    for level in range(depth):  #3 levels deep\n",
    "        min_feature = 1e6\n",
    "        pred = [-1]*(2**(level+1))\n",
    "        for i,feature in enumerate(features):\n",
    "            net_impurity = 0\n",
    "            decision_boundary = []\n",
    "            for X in X_set:\n",
    "                if X is not None:\n",
    "                    mn = 1e6\n",
    "                    step = float(X[:,i].max()-X[:,i].min())/5.0\n",
    "                    # B = None\n",
    "                    # A = None\n",
    "                    for boundary in np.arange(X[:,i].min()+step,X[:,i].max(),step):\n",
    "                        imp,_,_ = delta(X,boundary,i)\n",
    "                        # if (level>0):\n",
    "                        # print(f\"For {feature} at {boundary}, imp = {imp}\")\n",
    "                        if imp>0:\n",
    "                            print(\"Erroneous\")\n",
    "                        if imp==0:\n",
    "                            decision_boundary_node = None\n",
    "                            # print(\"B4 \",b)\n",
    "                            break\n",
    "                        if imp<mn:\n",
    "                            mn = imp\n",
    "                            decision_boundary_node = boundary\n",
    "                            # B,A = b,a\n",
    "                    decision_boundary.append(decision_boundary_node)\n",
    "                    net_impurity += mn\n",
    "                else:\n",
    "                    decision_boundary.append(None)\n",
    "\n",
    "            if net_impurity<min_feature:\n",
    "                selected = feature\n",
    "                feature_index = i\n",
    "                feature_boundary = decision_boundary\n",
    "                min_feature = net_impurity\n",
    "            \n",
    "        print(f\"At level {level}, choosing {selected} feature with a threshold = {feature_boundary}\")\n",
    "        ordered.append((selected,feature_boundary))\n",
    "        \n",
    "        features.remove(selected)\n",
    "        X_new = []\n",
    "        pred = []\n",
    "        for i,X in enumerate(X_set):\n",
    "            left = []\n",
    "            right = []\n",
    "            if feature_boundary[i]:\n",
    "                for x in X: #x is a data sample\n",
    "                    if x[feature_index]<=feature_boundary[i]:\n",
    "                        left.append(x)\n",
    "                    else:\n",
    "                        right.append(x)\n",
    "                left = np.delete(left, feature_index, axis=1)\n",
    "                X_new.append(left)\n",
    "                val, count = np.unique(left[:,-1],return_counts=True)\n",
    "                if len(val)==1:\n",
    "                    counter = [count[0],0] if val[0]==0 else [0,count[0]]\n",
    "                else:\n",
    "                    counter = count\n",
    "                pred.append(counter)\n",
    "                right = np.delete(right, feature_index, axis=1)\n",
    "                X_new.append(right)\n",
    "                val, count = np.unique(right[:,-1],return_counts=True)\n",
    "                if len(val)==1:\n",
    "                    counter = [count[0],0] if val[0]==0 else [0,count[0]]\n",
    "                else:\n",
    "                    counter = count\n",
    "                pred.append(counter)\n",
    "            else:\n",
    "                X_new.append(None)\n",
    "                X_new.append(None)\n",
    "                pred.append(prev[i])\n",
    "                pred.append([-1,-1])\n",
    "            # X = np.delete(X, feature_index, axis=1)\n",
    "        prev = pred\n",
    "        \n",
    "        X_set = X_new[:]\n",
    "        if level==depth-1:\n",
    "            imp = 0\n",
    "            \n",
    "            flag = True\n",
    "            for X in X_new:\n",
    "                if X is not None:\n",
    "                    val, count = np.unique(X[:,-1],return_counts=True)\n",
    "                    print(\"Count \",val,count)\n",
    "                    imp += impurity(X[:,-1])\n",
    "                else:\n",
    "                    if flag:\n",
    "                        print(\"None\")\n",
    "                        flag = False\n",
    "                    else:\n",
    "                        flag = True\n",
    "                # if (count[0]>count[1])\n",
    "            print(\"Final impurity = \",imp)\n",
    "\n",
    "    predictor = []\n",
    "    for x in pred:\n",
    "        if (x[0]>x[1]):\n",
    "            prediction = 0\n",
    "        elif (x[0]<x[1]):\n",
    "            prediction = 1 \n",
    "        else:\n",
    "            prediction = -1\n",
    "        predictor.append(prediction)\n",
    "    return ordered, predictor\n",
    "            \n",
    "#ACCURACY BELOW"
   ]
  },
  {
   "attachments": {},
   "cell_type": "markdown",
   "id": "ee93dc80-27a8-466e-91f6-cc16d2f87187",
   "metadata": {},
   "source": [
    "### `sklearn` Decision Tree Experiments\n",
    "\n",
    "1. Scikit-learn has two decision tree implementations: [`DecisionTreeClassifier`](https://scikit-learn.org/stable/modules/generated/sklearn.tree.DecisionTreeClassifier.html) and [`DecisionTreeRegressor`](https://scikit-learn.org/stable/modules/generated/sklearn.tree.DecisionTreeRegressor.html). \n",
    "\n",
    "When would you use one over the other? What would you use in the case of the banknote authentication dataset? Explain the changes that need to be made in the dataset to use the other implementation.\n",
    "\n",
    "*Ans* <font color='red'>A decision tree regressor will enable to find the probability or some other score on an unknown banknote. Thus we have to annotate the training data with the probability of counterfeit and accordingly nodes along a decision path will contain the weightage of each of the 4 features that will give the probability value of the banknote.</font>\n",
    "\n",
    "2. Fit a decision tree to the training set. Change various parameters and compare them to one another. Mainly try and experiment with the `criterion`, `max_depth` and `min_samples_split` parameters. Report the accuracy on the training and test set for each of the experiments while varying the parameters for comparison purposes.\n",
    "\n",
    "3. Plot your trees !! (optional) (for visualization)\n",
    "\n",
    "```python\n",
    "from sklearn.tree import plot_tree\n",
    "\n",
    "def plotTree(tree):\n",
    "    \"\"\"\n",
    "    tree: Tree instance that is the result of fitting a DecisionTreeClassifier\n",
    "          or a DecisionTreeRegressor.\n",
    "    \"\"\"\n",
    "    plt.figure(figsize=(30,20))\n",
    "    plot_tree(tree, filled=True, rounded=True,\n",
    "                  class_names=['forged', 'authentic'],\n",
    "                  feature_names=['var', 'skew', 'curt', 'ent'])\n",
    "    plt.show()\n",
    "    return None\n",
    "```"
   ]
  },
  {
   "cell_type": "code",
   "execution_count": 136,
   "id": "dd47791d",
   "metadata": {},
   "outputs": [
    {
     "name": "stdout",
     "output_type": "stream",
     "text": [
      "(1029, 5)\n"
     ]
    }
   ],
   "source": [
    "print(X_train.shape)"
   ]
  },
  {
   "cell_type": "code",
   "execution_count": 158,
   "id": "a0fb4991",
   "metadata": {},
   "outputs": [
    {
     "name": "stdout",
     "output_type": "stream",
     "text": [
      "At level 0, choosing var feature with a threshold = [1.2780399999999998]\n",
      "At level 1, choosing skew feature with a threshold = [7.606659999999996, 7.66752]\n",
      "At level 2, choosing curt feature with a threshold = [-0.6434000000000006, -0.9406200000000005, -2.37768, None]\n",
      "Count  [0. 1.] [  4 124]\n",
      "Count  [0. 1.] [ 92 286]\n",
      "Count  [0.] [41]\n",
      "Count  [0. 1.] [57 17]\n",
      "Count  [0. 1.] [15 13]\n",
      "Count  [0. 1.] [276   5]\n",
      "None\n",
      "Final impurity =  2.9039712001856723\n",
      "[('var', [1.2780399999999998]), ('skew', [7.606659999999996, 7.66752]), ('curt', [-0.6434000000000006, -0.9406200000000005, -2.37768, None])]\n",
      "[1, 1, 0, 0, 0, 0, 0, -1]\n"
     ]
    }
   ],
   "source": [
    "#OUR CLASSIFIER\n",
    "ordered_classifier,predictor = decision_tree(X_train)\n",
    "print(ordered_classifier)\n",
    "print(predictor)\n",
    "\n",
    "features = ['var','skew','curt','ent']\n",
    "        "
   ]
  },
  {
   "cell_type": "code",
   "execution_count": 143,
   "id": "51dfbfa7",
   "metadata": {},
   "outputs": [
    {
     "name": "stdout",
     "output_type": "stream",
     "text": [
      "(1029, 5) (343, 5)\n",
      "(343, 4) (343,)\n"
     ]
    }
   ],
   "source": [
    "print(X_train.shape,X_test.shape)\n",
    "x_test = X_test[:,:4]\n",
    "y_test = X_test[:,-1]\n",
    "print(x_test.shape,y_test.shape)"
   ]
  },
  {
   "cell_type": "code",
   "execution_count": 145,
   "id": "14180a91",
   "metadata": {},
   "outputs": [
    {
     "name": "stdout",
     "output_type": "stream",
     "text": [
      "Using Entropy:\n",
      "Confusion Matrix:  [[152  26]\n",
      " [  1 164]]\n",
      "Accuracy :  92.12827988338192\n",
      "Using Gini index:\n",
      "Confusion Matrix:  [[174   4]\n",
      " [ 30 135]]\n",
      "Accuracy :  90.0874635568513\n",
      "Using Log Loss:\n",
      "Confusion Matrix:  [[152  26]\n",
      " [  1 164]]\n",
      "Accuracy :  92.12827988338192\n"
     ]
    }
   ],
   "source": [
    "#SKLEARN CLASSIFIER\n",
    "\n",
    "from sklearn.tree import DecisionTreeClassifier\n",
    "from sklearn.metrics import accuracy_score,classification_report,confusion_matrix\n",
    "\n",
    "\n",
    "def prediction(X_test, clf_object):\n",
    "\ty_pred = clf_object.predict(X_test)\n",
    "\treturn y_pred\n",
    "\t\n",
    "# Function to calculate accuracy\n",
    "def cal_accuracy(y_test, y_pred):\n",
    "\tprint(\"Confusion Matrix: \", confusion_matrix(y_test, y_pred))\n",
    "\tprint (\"Accuracy : \", accuracy_score(y_test,y_pred)*100)\n",
    "\t\n",
    "\t# print(\"Report : \",\n",
    "\t# classification_report(y_test, y_pred))\n",
    "\n",
    "x_train = X_train[:,:4]\n",
    "y_train = X_train[:,-1]\n",
    "x_test = X_test[:,:4]\n",
    "y_test = X_test[:,-1]\n",
    "clf_entropy = DecisionTreeClassifier(\n",
    "\t\t\tcriterion = \"entropy\", random_state = 100, max_depth = 3, min_samples_leaf = 5)\n",
    "clf_entropy.fit(x_train, y_train)\n",
    "\n",
    "clf_gini = DecisionTreeClassifier(\n",
    "\t\t\tcriterion = \"gini\", random_state = 100, max_depth = 3, min_samples_leaf = 5)\n",
    "clf_gini.fit(x_train, y_train)\n",
    "\n",
    "clf_lloss = DecisionTreeClassifier(\n",
    "\t\t\tcriterion = \"log_loss\", random_state = 100, max_depth = 3, min_samples_leaf = 5)\n",
    "clf_lloss.fit(x_train, y_train)\n",
    "\n",
    "print(\"Using Entropy:\")\n",
    "y_pred_entropy = prediction(x_test, clf_entropy)\n",
    "cal_accuracy(y_test, y_pred_entropy)\n",
    "\n",
    "print(\"Using Gini index:\")\n",
    "y_pred_gini = prediction(x_test, clf_gini)\n",
    "cal_accuracy(y_test, y_pred_gini)\n",
    "\n",
    "print(\"Using Log Loss:\")\n",
    "y_pred_lloss = prediction(x_test, clf_lloss)\n",
    "cal_accuracy(y_test, y_pred_lloss)"
   ]
  },
  {
   "cell_type": "code",
   "execution_count": 161,
   "id": "4c66903f",
   "metadata": {},
   "outputs": [
    {
     "data": {
      "text/plain": [
       "[Text(0.5, 0.875, 'x[0] <= -0.297\\ngini = 0.491\\nsamples = 1029\\nvalue = [584, 445]'),\n",
       " Text(0.25, 0.625, 'x[1] <= 9.353\\ngini = 0.259\\nsamples = 425\\nvalue = [65, 360]'),\n",
       " Text(0.125, 0.375, 'x[0] <= -0.459\\ngini = 0.126\\nsamples = 384\\nvalue = [26, 358]'),\n",
       " Text(0.0625, 0.125, 'gini = 0.098\\nsamples = 367\\nvalue = [19, 348]'),\n",
       " Text(0.1875, 0.125, 'gini = 0.484\\nsamples = 17\\nvalue = [7, 10]'),\n",
       " Text(0.375, 0.375, 'x[0] <= -2.572\\ngini = 0.093\\nsamples = 41\\nvalue = [39, 2]'),\n",
       " Text(0.3125, 0.125, 'gini = 0.48\\nsamples = 5\\nvalue = [3, 2]'),\n",
       " Text(0.4375, 0.125, 'gini = 0.0\\nsamples = 36\\nvalue = [36, 0]'),\n",
       " Text(0.75, 0.625, 'x[2] <= -4.386\\ngini = 0.242\\nsamples = 604\\nvalue = [519, 85]'),\n",
       " Text(0.625, 0.375, 'x[0] <= 3.304\\ngini = 0.368\\nsamples = 37\\nvalue = [9, 28]'),\n",
       " Text(0.5625, 0.125, 'gini = 0.0\\nsamples = 28\\nvalue = [0, 28]'),\n",
       " Text(0.6875, 0.125, 'gini = 0.0\\nsamples = 9\\nvalue = [9, 0]'),\n",
       " Text(0.875, 0.375, 'x[0] <= 1.592\\ngini = 0.181\\nsamples = 567\\nvalue = [510, 57]'),\n",
       " Text(0.8125, 0.125, 'gini = 0.388\\nsamples = 209\\nvalue = [154, 55]'),\n",
       " Text(0.9375, 0.125, 'gini = 0.011\\nsamples = 358\\nvalue = [356, 2]')]"
      ]
     },
     "execution_count": 161,
     "metadata": {},
     "output_type": "execute_result"
    },
    {
     "data": {
      "image/png": "[encoded data removed]",
      "text/plain": [
       "<Figure size 640x480 with 1 Axes>"
      ]
     },
     "metadata": {},
     "output_type": "display_data"
    }
   ],
   "source": [
    "from sklearn.tree import plot_tree\n",
    "\n",
    "def plotTree(tree):\n",
    "    \"\"\"\n",
    "    tree: Tree instance that is the result of fitting a DecisionTreeClassifier\n",
    "          or a DecisionTreeRegressor.\n",
    "    \"\"\"\n",
    "    plt.figure(figsize=(30,20))\n",
    "    plot_tree(tree, filled=True, rounded=True,\n",
    "                  class_names=['forged', 'authentic'],\n",
    "                  feature_names=['var', 'skew', 'curt', 'ent'])\n",
    "    plt.show()\n",
    "    return None\n",
    "\n",
    "plot_tree(clf_gini)\n",
    "\n",
    "\n",
    "#Feature [0], variance is reused in level 3"
   ]
  },
  {
   "cell_type": "markdown",
   "id": "af48e314-8c64-4fc2-b654-726d3549e42f",
   "metadata": {},
   "source": [
    "### Load Data\n",
    "\n",
    "The data has been loaded onto a Pandas DataFrame. Try to get an initial feel for the data by using functions like `describe()`, `info()`, or maybe try to plot the data to check for any patterns.\n",
    "\n",
    "Note: To obtain the data from the UCI website, `wget` can be used followed by shuffling the samples using `shuf` and adding a header for easier reading via `pandas`. It is not necessary to view the data in a DataFrame and can be directly loaded onto NumPy as convenient."
   ]
  },
  {
   "cell_type": "code",
   "execution_count": 78,
   "id": "ea8dd35b-09f6-4400-821b-d9aa0b07cd23",
   "metadata": {},
   "outputs": [
    {
     "name": "stdout",
     "output_type": "stream",
     "text": [
      "(1372, 5)\n"
     ]
    },
    {
     "data": {
      "text/html": [
       "<div>\n",
       "<style scoped>\n",
       "    .dataframe tbody tr th:only-of-type {\n",
       "        vertical-align: middle;\n",
       "    }\n",
       "\n",
       "    .dataframe tbody tr th {\n",
       "        vertical-align: top;\n",
       "    }\n",
       "\n",
       "    .dataframe thead th {\n",
       "        text-align: right;\n",
       "    }\n",
       "</style>\n",
       "<table border=\"1\" class=\"dataframe\">\n",
       "  <thead>\n",
       "    <tr style=\"text-align: right;\">\n",
       "      <th></th>\n",
       "      <th>var</th>\n",
       "      <th>skew</th>\n",
       "      <th>curt</th>\n",
       "      <th>ent</th>\n",
       "      <th>label</th>\n",
       "    </tr>\n",
       "  </thead>\n",
       "  <tbody>\n",
       "    <tr>\n",
       "      <th>count</th>\n",
       "      <td>1372.000000</td>\n",
       "      <td>1372.000000</td>\n",
       "      <td>1372.000000</td>\n",
       "      <td>1372.000000</td>\n",
       "      <td>1372.000000</td>\n",
       "    </tr>\n",
       "    <tr>\n",
       "      <th>mean</th>\n",
       "      <td>0.433735</td>\n",
       "      <td>1.922353</td>\n",
       "      <td>1.397627</td>\n",
       "      <td>-1.191657</td>\n",
       "      <td>0.444606</td>\n",
       "    </tr>\n",
       "    <tr>\n",
       "      <th>std</th>\n",
       "      <td>2.842763</td>\n",
       "      <td>5.869047</td>\n",
       "      <td>4.310030</td>\n",
       "      <td>2.101013</td>\n",
       "      <td>0.497103</td>\n",
       "    </tr>\n",
       "    <tr>\n",
       "      <th>min</th>\n",
       "      <td>-7.042100</td>\n",
       "      <td>-13.773100</td>\n",
       "      <td>-5.286100</td>\n",
       "      <td>-8.548200</td>\n",
       "      <td>0.000000</td>\n",
       "    </tr>\n",
       "    <tr>\n",
       "      <th>25%</th>\n",
       "      <td>-1.773000</td>\n",
       "      <td>-1.708200</td>\n",
       "      <td>-1.574975</td>\n",
       "      <td>-2.413450</td>\n",
       "      <td>0.000000</td>\n",
       "    </tr>\n",
       "    <tr>\n",
       "      <th>50%</th>\n",
       "      <td>0.496180</td>\n",
       "      <td>2.319650</td>\n",
       "      <td>0.616630</td>\n",
       "      <td>-0.586650</td>\n",
       "      <td>0.000000</td>\n",
       "    </tr>\n",
       "    <tr>\n",
       "      <th>75%</th>\n",
       "      <td>2.821475</td>\n",
       "      <td>6.814625</td>\n",
       "      <td>3.179250</td>\n",
       "      <td>0.394810</td>\n",
       "      <td>1.000000</td>\n",
       "    </tr>\n",
       "    <tr>\n",
       "      <th>max</th>\n",
       "      <td>6.824800</td>\n",
       "      <td>12.951600</td>\n",
       "      <td>17.927400</td>\n",
       "      <td>2.449500</td>\n",
       "      <td>1.000000</td>\n",
       "    </tr>\n",
       "  </tbody>\n",
       "</table>\n",
       "</div>"
      ],
      "text/plain": [
       "               var         skew         curt          ent        label\n",
       "count  1372.000000  1372.000000  1372.000000  1372.000000  1372.000000\n",
       "mean      0.433735     1.922353     1.397627    -1.191657     0.444606\n",
       "std       2.842763     5.869047     4.310030     2.101013     0.497103\n",
       "min      -7.042100   -13.773100    -5.286100    -8.548200     0.000000\n",
       "25%      -1.773000    -1.708200    -1.574975    -2.413450     0.000000\n",
       "50%       0.496180     2.319650     0.616630    -0.586650     0.000000\n",
       "75%       2.821475     6.814625     3.179250     0.394810     1.000000\n",
       "max       6.824800    12.951600    17.927400     2.449500     1.000000"
      ]
     },
     "execution_count": 78,
     "metadata": {},
     "output_type": "execute_result"
    }
   ],
   "source": [
    "\n",
    "data = pd.read_csv('bankAuth.txt', names=features+['label'])\n",
    "print(data.shape)\n",
    "data.describe()"
   ]
  },
  {
   "cell_type": "code",
   "execution_count": 6,
   "id": "e083bc34-cf20-41f5-a1ff-889beb22e03a",
   "metadata": {},
   "outputs": [],
   "source": [
    "# your code here\n",
    "import matplotlib.pyplot as plt\n",
    "plt.plot()"
   ]
  },
  {
   "cell_type": "markdown",
   "id": "da1cec0c-7433-4d38-875d-c9b25f2366b5",
   "metadata": {},
   "source": [
    "### Splitting the Data\n",
    "\n",
    "It is a good practice to split the data into training and test sets. This is to ensure that the model is not overfitting to the training data. The test set is used to evaluate the performance of the model on unseen data. The test set is not used to train the model in any way. The test set is only used to evaluate the performance of the model. You may use the `train_test_split` function from `sklearn.model_selection` to split the data into training and test sets.\n",
    "\n",
    "It is a good idea to move your data to NumPy arrays now as it will make computing easier."
   ]
  },
  {
   "cell_type": "code",
   "execution_count": 111,
   "id": "ffc54272-3855-4601-8ad7-f3c3062a687a",
   "metadata": {},
   "outputs": [],
   "source": [
    "# your code here\n",
    "from sklearn.model_selection import train_test_split\n",
    "x = data.values\n",
    "# Y = data.values[:,4]\n",
    "X_train, X_test = train_test_split(x, test_size=0.25)"
   ]
  },
  {
   "cell_type": "code",
   "execution_count": 112,
   "id": "cb2351dc",
   "metadata": {},
   "outputs": [
    {
     "name": "stdout",
     "output_type": "stream",
     "text": [
      "(1029, 5) (343, 5)\n",
      "(1372, 5)\n"
     ]
    }
   ],
   "source": [
    "print(X_train.shape,X_test.shape)\n",
    "print(x.shape)"
   ]
  },
  {
   "cell_type": "code",
   "execution_count": 81,
   "id": "a184e34d",
   "metadata": {},
   "outputs": [
    {
     "name": "stdout",
     "output_type": "stream",
     "text": [
      "(1029,)\n"
     ]
    }
   ],
   "source": [
    "labels = X_train[:,-1]\n",
    "print(labels.shape)"
   ]
  },
  {
   "cell_type": "code",
   "execution_count": 160,
   "id": "a9494491",
   "metadata": {},
   "outputs": [
    {
     "name": "stdout",
     "output_type": "stream",
     "text": [
      "Accuracy =  0.9183673469387755\n"
     ]
    }
   ],
   "source": [
    "# TEST SET EXPERIMENTS\n",
    "\n",
    "features = ['var','skew','curt','ent']\n",
    "level = ordered_classifier[0]\n",
    "\n",
    "score = 0\n",
    "y_pred = []\n",
    "for x in X_test:\n",
    "    i = 0\n",
    "    index = 0\n",
    "    r = 0\n",
    "    flag=True\n",
    "    for l,level in enumerate(ordered_classifier):\n",
    "        feature, thresholds = level\n",
    "        if thresholds[i] is None:\n",
    "            if (x[-1]==predictor[index]):\n",
    "                score+=1\n",
    "            y_pred.append(predictor[index])\n",
    "            flag = False\n",
    "            break\n",
    "        if (x[features.index(feature)]>thresholds[i]):\n",
    "            index += (2**(3-l-1))\n",
    "            i=2*i+1\n",
    "        else:\n",
    "            i=2*i\n",
    "    if flag:\n",
    "        y_pred.append(predictor[index])\n",
    "        if (predictor[index]==x[-1]):\n",
    "            score+=1\n",
    "\n",
    "print(\"Accuracy = \",score/len(X_test))"
   ]
  },
  {
   "cell_type": "markdown",
   "id": "63938d1f-174f-4054-ba7f-82d73171f2e4",
   "metadata": {},
   "source": [
    "### Denouement\n",
    "\n",
    "Use this place to report all comparisons and wrap up the calls to the functions written above."
   ]
  },
  {
   "cell_type": "code",
   "execution_count": 147,
   "id": "9acc1dad-a657-403b-9154-003961d241ac",
   "metadata": {},
   "outputs": [
    {
     "name": "stdout",
     "output_type": "stream",
     "text": [
      "Confusion Matrix:  [[158  20]\n",
      " [  8 157]]\n"
     ]
    }
   ],
   "source": [
    "# your code here\n",
    "print(\"Confusion Matrix: \", confusion_matrix(y_test, y_pred))"
   ]
  }
 ],
 "metadata": {
  "kernelspec": {
   "display_name": "Python 3",
   "language": "python",
   "name": "python3"
  },
  "language_info": {
   "codemirror_mode": {
    "name": "ipython",
    "version": 3
   },
   "file_extension": ".py",
   "mimetype": "text/x-python",
   "name": "python",
   "nbconvert_exporter": "python",
   "pygments_lexer": "ipython3",
   "version": "3.10.9"
  },
  "vscode": {
   "interpreter": {
    "hash": "b1de4ff2211fa41cac98f57f6e09087ddd98c9b04c863cfd8acb24d1980dfbc2"
   }
  }
 },
 "nbformat": 4,
 "nbformat_minor": 5
}
