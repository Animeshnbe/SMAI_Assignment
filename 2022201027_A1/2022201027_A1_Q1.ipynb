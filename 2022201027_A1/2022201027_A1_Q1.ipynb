{
 "cells": [
  {
   "cell_type": "markdown",
   "metadata": {
    "id": "NSd3vc8oPt3b"
   },
   "source": [
    "# Assignment 1\n",
    "## Question `1` (K-Nearest Neighbour)\n",
    "\n",
    "| | |\n",
    "|-|-|\n",
    "| Course | Statistical Methods in AI |\n",
    "| Release Date | `19.01.2023` |\n",
    "| Due Date | `29.01.2023` |\n",
    "\n",
    "### Instructions:\n",
    "1.   Assignment must be implemented using python notebook only (Colab , VsCode , Jupyter etc.)\n",
    "2.   You are allowed to use libraries for data preprocessing (numpy, pandas, nltk etc) and for algorithms as well (sklearn etc). You are not however allowed to directly use classifier models.\n",
    "3.   The performance of the model will hold weightage but you will also be graded largely for data preprocessing steps , explanations , feature selection for vectors etc.\n",
    "4.   Strict plagiarism checking will be done. An F will be awarded for plagiarism.\n",
    "\n",
    "### The Dataset\n",
    "The dataset is avaible in the zip file which is a collection of *11099 tweets*. The data will be in the form of a csv file. The ground truth is also given in the zip file which corresponds to whether a tweet was popular or not. Since the task involves selecting features yourself to vectorize a tweet , we suggest some data analysis of the columns you consider important.\n",
    "<br><br>\n",
    "\n",
    "### The Task\n",
    "You have to build a classifier which can predict the popularity of the tweet, i.e , if the tweet was popular or not. You are required to use **KNN** algorithm to build the classifier and cannot use any inbuilt classifier. All columns are supposed to be analyzed , filtered and preprocessed to determine its importance as a feature in the vector for every tweet (Not every column will be useful).<br>\n",
    "The Data contains the **raw text of the tweet**(in the text column) as well as other **meta data** like likes count , user followers count. Note that it might be useful to **create new columns** with useful information. For example, *number of hashtags* might be useful but is not directly present as a column.<br>\n",
    "There are 3 main sub parts:\n",
    "1. *Vectorize tweets using only meta data* - likes , user followers count , and other created data\n",
    "2. *Vectorize tweets using only it's text*. This segment will require NLP techniques to clean the text and extract a vector using a BoW model. Here is a useful link for the same - [Tf-Idf](https://towardsdatascience.com/text-vectorization-term-frequency-inverse-document-frequency-tfidf-5a3f9604da6d). Since these vectors will be very large , we recommend reducing their dimensinality (~10 - 25). Hint: [Dimentionality Reduction](https://jonathan-hui.medium.com/machine-learning-singular-value-decomposition-svd-principal-component-analysis-pca-1d45e885e491). Please note that for this also you are allowed to use libraries.\n",
    "\n",
    "3. *Combining the vectors from above two techinques to create one bigger vector*\n",
    "<br>\n",
    "\n",
    "\n",
    "Using KNN on these vectors build a classifier to predict the popularity of the tweet and report accuracies on each of the three methods as well as analysis. You can use sklearn's Nearest Neighbors and need not write KNN from scratch. (However you cannot use the classifier directly). You are expected to try the classifier for different number of neighbors and identify the optimal K value."
   ]
  },
  {
   "cell_type": "markdown",
   "metadata": {
    "id": "0LJvylX8680U"
   },
   "source": [
    "## Import necessary libraries"
   ]
  },
  {
   "cell_type": "code",
   "execution_count": 3,
   "metadata": {
    "id": "UrD1GJ6-YA5M"
   },
   "outputs": [],
   "source": [
    "import pandas as pd\n",
    "import numpy as np\n",
    "import json"
   ]
  },
  {
   "cell_type": "markdown",
   "metadata": {
    "id": "eoakVIVW7EOT"
   },
   "source": [
    "## Load and display the data"
   ]
  },
  {
   "cell_type": "code",
   "execution_count": 4,
   "metadata": {
    "id": "YRwXxW4WwEL8"
   },
   "outputs": [
    {
     "name": "stdout",
     "output_type": "stream",
     "text": [
      "Index(['created_at', 'id', 'id_str', 'text', 'truncated', 'entities',\n",
      "       'metadata', 'source', 'is_quote_status', 'retweet_count',\n",
      "       'favorite_count', 'lang', 'user_name', 'user_screen_name',\n",
      "       'user_followers_count', 'user_friends_count', 'user_listed_count',\n",
      "       'user_created_at', 'user_favourites_count', 'user_verified',\n",
      "       'user_statuses_count'],\n",
      "      dtype='object')\n",
      "<bound method DataFrame.count of                            created_at            id        id_str  \\\n",
      "0      Tue Jul 31 13:34:34 +0000 2018  1.024290e+18  1.024290e+18   \n",
      "1      Tue Jul 31 13:34:14 +0000 2018  1.024290e+18  1.024290e+18   \n",
      "2      Tue Jul 31 13:34:40 +0000 2018  1.024290e+18  1.024290e+18   \n",
      "3      Tue Jul 31 13:34:27 +0000 2018  1.024290e+18  1.024290e+18   \n",
      "4      Tue Jul 31 13:34:28 +0000 2018  1.024290e+18  1.024290e+18   \n",
      "...                               ...           ...           ...   \n",
      "11094  Tue Jul 31 13:34:36 +0000 2018  1.024290e+18  1.024290e+18   \n",
      "11095  Tue Jul 31 13:34:15 +0000 2018  1.024290e+18  1.024290e+18   \n",
      "11096  Tue Jul 31 13:34:14 +0000 2018  1.024290e+18  1.024290e+18   \n",
      "11097  Tue Jul 31 13:34:35 +0000 2018  1.024290e+18  1.024290e+18   \n",
      "11098  Tue Jul 31 13:34:28 +0000 2018  1.024290e+18  1.024290e+18   \n",
      "\n",
      "                                                    text  truncated  \\\n",
      "0      RT @EdwardTHardy: The 7th US Circuit Court of ...      False   \n",
      "1      RT @VenomMovie: The world has enough superhero...      False   \n",
      "2      RT @FutbolBible: Teachers vs Students match &a...      False   \n",
      "3      RT @mashable: Someone from 'The Office' actual...      False   \n",
      "4      RT @_missj0hnson: Iâ€™m at Starbucks asking fo...      False   \n",
      "...                                                  ...        ...   \n",
      "11094  RT @AnnieOakley2015: @AVoiceForAllGA Following...      False   \n",
      "11095  RT @BillOReilly: What exactly is Donald Trump ...      False   \n",
      "11096  Paradoxically, your good intentions may stand ...      False   \n",
      "11097  RT @enblocibc: Less than 4 days to go for the ...      False   \n",
      "11098  The nature of being human is to be wired for c...      False   \n",
      "\n",
      "                                                entities  \\\n",
      "0      {'hashtags': [], 'symbols': [], 'user_mentions...   \n",
      "1      {'hashtags': [{'text': 'Venom', 'indices': [64...   \n",
      "2      {'hashtags': [], 'symbols': [], 'user_mentions...   \n",
      "3      {'hashtags': [], 'symbols': [], 'user_mentions...   \n",
      "4      {'hashtags': [], 'symbols': [], 'user_mentions...   \n",
      "...                                                  ...   \n",
      "11094  {'hashtags': [{'text': 'GA10', 'indices': [93,...   \n",
      "11095  {'hashtags': [], 'symbols': [], 'user_mentions...   \n",
      "11096  {'hashtags': [], 'symbols': [], 'user_mentions...   \n",
      "11097  {'hashtags': [], 'symbols': [], 'user_mentions...   \n",
      "11098  {'hashtags': [], 'symbols': [], 'user_mentions...   \n",
      "\n",
      "                                                metadata  \\\n",
      "0      {'iso_language_code': 'en', 'result_type': 're...   \n",
      "1      {'iso_language_code': 'en', 'result_type': 're...   \n",
      "2      {'iso_language_code': 'en', 'result_type': 're...   \n",
      "3      {'iso_language_code': 'en', 'result_type': 're...   \n",
      "4      {'iso_language_code': 'en', 'result_type': 're...   \n",
      "...                                                  ...   \n",
      "11094  {'iso_language_code': 'en', 'result_type': 're...   \n",
      "11095  {'iso_language_code': 'en', 'result_type': 're...   \n",
      "11096  {'iso_language_code': 'en', 'result_type': 're...   \n",
      "11097  {'iso_language_code': 'en', 'result_type': 're...   \n",
      "11098  {'iso_language_code': 'en', 'result_type': 're...   \n",
      "\n",
      "                                                  source  is_quote_status  \\\n",
      "0      <a href=\"http://twitter.com/download/android\" ...            False   \n",
      "1      <a href=\"http://twitter.com/download/android\" ...            False   \n",
      "2      <a href=\"http://twitter.com/download/iphone\" r...            False   \n",
      "3      <a href=\"http://twitter.com\" rel=\"nofollow\">Tw...            False   \n",
      "4      <a href=\"http://twitter.com/download/android\" ...            False   \n",
      "...                                                  ...              ...   \n",
      "11094  <a href=\"http://twitter.com/download/android\" ...            False   \n",
      "11095  <a href=\"http://twitter.com/download/iphone\" r...            False   \n",
      "11096  <a href=\"http://www.twittascope.com\" rel=\"nofo...            False   \n",
      "11097  <a href=\"http://twitter.com/download/android\" ...            False   \n",
      "11098  <a href=\"http://www.twittascope.com\" rel=\"nofo...            False   \n",
      "\n",
      "       retweet_count  ...  lang                  user_name user_screen_name  \\\n",
      "0                113  ...    en                Sherry Wahl   queenfancygirl   \n",
      "1               5902  ...    en           Kay Khairil ðŸŒ      ikaykhairil   \n",
      "2               3745  ...    en           Charlie Hamilton         ch100897   \n",
      "3                 10  ...    en                Mike Santos    mikesantosx71   \n",
      "4              25306  ...    en                      Soots  DaAverageDingus   \n",
      "...              ...  ...   ...                        ...              ...   \n",
      "11094              5  ...    en                  TrumpNeck        Francis_3   \n",
      "11095           8393  ...    en                        atm   allen_mcdowell   \n",
      "11096              0  ...    en                 Jan15î„… .   yellow_naeeeee   \n",
      "11097             18  ...    en  âœ¨MC Capital Venturesâœ¨       MCCapitalV   \n",
      "11098              0  ...    en       jalisa252ðŸ˜ŽðŸ˜„â¤  swisher_sweetii   \n",
      "\n",
      "      user_followers_count  user_friends_count  user_listed_count  \\\n",
      "0                      153                 264                  7   \n",
      "1                      780                 382                 12   \n",
      "2                      255                 246                  1   \n",
      "3                     2419                2428                  4   \n",
      "4                      314                 722                  7   \n",
      "...                    ...                 ...                ...   \n",
      "11094                  802                1353                  7   \n",
      "11095                  429                 599                 12   \n",
      "11096                  135                  94                  0   \n",
      "11097                  505                 243                  8   \n",
      "11098                  354                 665                  3   \n",
      "\n",
      "                      user_created_at user_favourites_count  user_verified  \\\n",
      "0      Thu Mar 18 19:16:31 +0000 2010                 32984          False   \n",
      "1      Wed Mar 17 03:27:51 +0000 2010                  6648          False   \n",
      "2      Sun Mar 03 09:23:03 +0000 2013                  5426          False   \n",
      "3      Thu May 25 14:37:29 +0000 2017                  5993          False   \n",
      "4      Tue Mar 15 01:14:02 +0000 2011                  6285          False   \n",
      "...                               ...                   ...            ...   \n",
      "11094  Thu May 28 12:02:54 +0000 2009                 79149          False   \n",
      "11095  Wed Oct 10 11:37:34 +0000 2012                  2029          False   \n",
      "11096  Mon Sep 23 22:37:49 +0000 2013                    90          False   \n",
      "11097  Thu Feb 01 23:58:16 +0000 2018                 15829          False   \n",
      "11098  Fri Jul 24 18:13:16 +0000 2009                    64          False   \n",
      "\n",
      "       user_statuses_count  \n",
      "0                    31308  \n",
      "1                    87272  \n",
      "2                     1731  \n",
      "3                     2153  \n",
      "4                    33503  \n",
      "...                    ...  \n",
      "11094                 6491  \n",
      "11095                 5065  \n",
      "11096                 4265  \n",
      "11097                13604  \n",
      "11098                13980  \n",
      "\n",
      "[11099 rows x 21 columns]>\n",
      "{'hashtags': [], 'symbols': [], 'user_mentions': [{'screen_name': 'EdwardTHardy', 'name': 'Edward Hardy', 'id': 2369117648, 'id_str': '2369117648', 'indices': [3, 16]}], 'urls': []}\n"
     ]
    }
   ],
   "source": [
    "#your code here\n",
    "\n",
    "data = pd.read_csv(\"Tweets.csv\")\n",
    "print(data.columns)\n",
    "print(data.count)\n",
    "\n",
    "Y = pd.read_csv('ground_truth.csv', names=['label'])\n",
    "\n",
    "\n",
    "#FEATURE SELECTION\n",
    "X_content = data.reindex(columns=['text'])\n",
    "\n",
    "X = data.reindex(columns=['id','entities','user_verified','retweet_count',\n",
    "    'user_followers_count','user_friends_count','user_statuses_count','user_listed_count'])\n",
    "\n",
    "print(X['entities'][0]) # exploration"
   ]
  },
  {
   "cell_type": "code",
   "execution_count": 5,
   "metadata": {},
   "outputs": [
    {
     "name": "stdout",
     "output_type": "stream",
     "text": [
      "Err: 40, Err: 98, Err: 180, Err: 259, Err: 270, Err: 429, Err: 431, Err: 471, Err: 570, Err: 680, Err: 700, Err: 763, Err: 803, Err: 991, Err: 1012, Err: 1070, Err: 1163, Err: 1240, Err: 1311, Err: 1366, Err: 1367, Err: 1443, Err: 1677, Err: 1736, Err: 1770, Err: 1831, Err: 1929, Err: 1935, Err: 1950, Err: 2055, Err: 2224, Err: 2285, Err: 2292, Err: 2311, Err: 2324, Err: 2399, Err: 2433, Err: 2458, Err: 2531, Err: 2673, Err: 2685, Err: 2824, Err: 2961, Err: 2980, Err: 3052, Err: 3338, Err: 3356, Err: 3427, Err: 3465, Err: 3478, Err: 3570, Err: 3598, Err: 3690, Err: 3701, Err: 3706, Err: 3763, Err: 4062, Err: 4117, Err: 4122, Err: 4383, Err: 4445, Err: 4517, Err: 4633, Err: 4781, Err: 4789, Err: 4796, Err: 4880, Err: 4965, Err: 5012, Err: 5130, Err: 5224, Err: 5329, Err: 5375, Err: 5470, Err: 5563, Err: 5737, Err: 5881, Err: 5937, Err: 5979, Err: 6052, Err: 6215, Err: 6277, Err: 6347, Err: 6391, Err: 6428, Err: 6476, Err: 6500, Err: 6564, Err: 6567, Err: 6853, Err: 7031, Err: 7054, Err: 7056, Err: 7149, Err: 7364, Err: 7368, Err: 7495, Err: 7657, Err: 7736, Err: 7927, Err: 8019, Err: 8039, Err: 8086, Err: 8094, Err: 8133, Err: 8145, Err: 8284, Err: 8595, Err: 8735, Err: 8863, Err: 8883, Err: 8915, Err: 8955, Err: 9069, Err: 9085, Err: 9186, Err: 9199, Err: 9278, Err: 9365, Err: 9391, Err: 9416, Err: 9431, Err: 9443, Err: 9555, Err: 9593, Err: 9736, Err: 9850, Err: 9862, Err: 10420, Err: 10446, Err: 10483, Err: 10556, Err: 10564, Err: 10690, Err: 10818, Err: 10835, Err: 10951, Err: 10964, Err: 11017, Err: 11056, Err: 11095, "
     ]
    }
   ],
   "source": [
    "# X['entities'].apply(lambda row: len(json.load(row.replace(\"\\'\",\"\\\"\"))['hashtags']))\n",
    "X = X.assign(hashtags=0)\n",
    "for i in range(len(X)):\n",
    "    try:\n",
    "        X.loc[i,\"hashtags\"] = len(json.loads(X.loc[i,\"entities\"].replace('\\'','\\\"'))[\"hashtags\"])\n",
    "    except Exception as e:\n",
    "        print(\"Err:\",i,end=\", \")\n",
    "        # x = 0\n",
    "        continue\n",
    "\n",
    "X.drop('entities', axis=1, inplace=True)\n"
   ]
  },
  {
   "cell_type": "code",
   "execution_count": 6,
   "metadata": {
    "id": "WAH13731wPS5"
   },
   "outputs": [
    {
     "name": "stdout",
     "output_type": "stream",
     "text": [
      "<class 'pandas.core.frame.DataFrame'>\n",
      "RangeIndex: 11099 entries, 0 to 11098\n",
      "Data columns (total 9 columns):\n",
      " #   Column                Non-Null Count  Dtype  \n",
      "---  ------                --------------  -----  \n",
      " 0   id                    11099 non-null  float64\n",
      " 1   user_verified         11099 non-null  bool   \n",
      " 2   retweet_count         11099 non-null  int64  \n",
      " 3   user_followers_count  11099 non-null  int64  \n",
      " 4   user_friends_count    11099 non-null  int64  \n",
      " 5   user_statuses_count   11099 non-null  int64  \n",
      " 6   user_listed_count     11099 non-null  int64  \n",
      " 7   hashtags              11099 non-null  int64  \n",
      " 8   label                 11099 non-null  float64\n",
      "dtypes: bool(1), float64(2), int64(6)\n",
      "memory usage: 704.7 KB\n"
     ]
    }
   ],
   "source": [
    "\n",
    "X['label'] = Y\n",
    "X.info()"
   ]
  },
  {
   "cell_type": "markdown",
   "metadata": {
    "id": "ywNXO3TpwQkV"
   },
   "source": [
    "## Exploratory Data Analysis\n",
    "*This is an ungraded section but is recommended to get a good grasp on the dataset*"
   ]
  },
  {
   "cell_type": "code",
   "execution_count": 7,
   "metadata": {
    "id": "Nl8EwC77wqX4"
   },
   "outputs": [
    {
     "name": "stdout",
     "output_type": "stream",
     "text": [
      "Index(['id', 'user_verified', 'retweet_count', 'user_followers_count',\n",
      "       'user_friends_count', 'user_statuses_count', 'user_listed_count',\n",
      "       'hashtags', 'label'],\n",
      "      dtype='object')\n",
      "False\n",
      "2\n",
      "             id  user_verified  retweet_count  user_followers_count  \\\n",
      "0  1.024290e+18          False            113                   153   \n",
      "1  1.024290e+18          False           5902                   780   \n",
      "2  1.024290e+18          False           3745                   255   \n",
      "3  1.024290e+18          False             10                  2419   \n",
      "4  1.024290e+18          False          25306                   314   \n",
      "\n",
      "   user_friends_count  user_statuses_count  user_listed_count  hashtags  label  \n",
      "0                 264                31308                  7         0    0.0  \n",
      "1                 382                87272                 12         1    0.0  \n",
      "2                 246                 1731                  1         0    1.0  \n",
      "3                2428                 2153                  4         0    0.0  \n",
      "4                 722                33503                  7         0    1.0  \n"
     ]
    }
   ],
   "source": [
    "# your code here\n",
    "print(X.columns)\n",
    "print(X.isnull().values.any())\n",
    "# print(X.where(X.hashtags > 0))\n",
    "print(X['hashtags'][43])\n",
    "print(X.head())\n",
    "# print(X[X['hashtags'] > 0].count())"
   ]
  },
  {
   "cell_type": "markdown",
   "metadata": {
    "id": "Mztyk9Kew7q1"
   },
   "source": [
    "## Part-1\n",
    "*Vectorize tweets using only meta data*"
   ]
  },
  {
   "cell_type": "code",
   "execution_count": 8,
   "metadata": {},
   "outputs": [
    {
     "name": "stdout",
     "output_type": "stream",
     "text": [
      "             id  user_verified  retweet_count  user_followers_count  \\\n",
      "0  1.024290e+18            0.0      -0.218795             -0.029090   \n",
      "1  1.024290e+18            0.0       0.256486             -0.025975   \n",
      "2  1.024290e+18            0.0       0.079395             -0.028583   \n",
      "3  1.024290e+18            0.0      -0.227251             -0.017834   \n",
      "4  1.024290e+18            0.0       1.849567             -0.028290   \n",
      "\n",
      "   user_friends_count  user_statuses_count  user_listed_count  hashtags  label  \n",
      "0           -0.154112            -0.038906          -0.156960 -0.308999    0.0  \n",
      "1           -0.138679             0.591380          -0.137348  1.157258    0.0  \n",
      "2           -0.156467            -0.372013          -0.180493 -0.308999    1.0  \n",
      "3            0.128913            -0.367260          -0.168727 -0.308999    0.0  \n",
      "4           -0.094211            -0.014185          -0.156960 -0.308999    1.0  \n"
     ]
    }
   ],
   "source": [
    "#PREPROCESSING\n",
    "for col in ['retweet_count','user_followers_count','user_friends_count',\\\n",
    "        'user_statuses_count','user_listed_count','hashtags']:\n",
    "    X[col] = (X[col]-X[col].mean())/X[col].std()\n",
    "\n",
    "X['user_verified'] = X['user_verified'].apply(lambda row: float(row))\n",
    "print(X.head())\n",
    "\n",
    "# print(type(X['user_verified'][0]))"
   ]
  },
  {
   "cell_type": "code",
   "execution_count": 9,
   "metadata": {},
   "outputs": [
    {
     "name": "stdout",
     "output_type": "stream",
     "text": [
      "(11099, 7)\n"
     ]
    }
   ],
   "source": [
    "X_meta = X.iloc[:,1:8].values\n",
    "\n",
    "print(X_meta.shape)  #Vectorized"
   ]
  },
  {
   "cell_type": "code",
   "execution_count": 37,
   "metadata": {
    "id": "y-rDkUtVxQph"
   },
   "outputs": [],
   "source": [
    "\n",
    "\"\"\"\n",
    "Funtion to return a matrix of dimensions (number of tweets, number of chosen features)\n",
    "Input parameters to this funcion are to be chosen as per requirement (Example: Loaded dataframe of the dataset) \n",
    "\"\"\"\n",
    "from sklearn.model_selection import train_test_split\n",
    "X_train, X_test, y_train, y_test = train_test_split(X_meta, Y, test_size=0.25)\n",
    "\n",
    "# X_train, "
   ]
  },
  {
   "cell_type": "code",
   "execution_count": 38,
   "metadata": {},
   "outputs": [
    {
     "name": "stdout",
     "output_type": "stream",
     "text": [
      "(8324, 7) (8324,)\n"
     ]
    }
   ],
   "source": [
    "# y_train.reshaoe()\n",
    "print(X_train.shape, np.squeeze(y_train).shape)\n",
    "\n",
    "y_train = np.squeeze(y_train)\n",
    "y_test = np.squeeze(y_test)\n",
    "y_train = y_train.to_numpy()"
   ]
  },
  {
   "cell_type": "markdown",
   "metadata": {
    "id": "4K7Fzh5Q4wrV"
   },
   "source": [
    "Perform KNN using the vector obtained from get_features() function. Following are the steps to be followed:\n",
    "1. Normalise the vectors\n",
    "2. Split the data into training and test to estimate the performance.\n",
    "3. Fit the Nearest Neughbiurs module to the training data and obtain the predicted class by getting the nearest neighbours on the test data.\n",
    "4. Report the accuracy, chosen k-value and method used to obtain the predicted class. Hint: Plot accuracies for a range of k-values. "
   ]
  },
  {
   "cell_type": "code",
   "execution_count": 39,
   "metadata": {
    "id": "EBHGbdsi4fe-"
   },
   "outputs": [
    {
     "name": "stdout",
     "output_type": "stream",
     "text": [
      "Max Accuracy:  0.9607207207207207\n"
     ]
    }
   ],
   "source": [
    "# your code here\n",
    "\n",
    "from sklearn.neighbors import NearestNeighbors\n",
    "from sklearn.metrics import accuracy_score\n",
    "\n",
    "acc = []\n",
    "\n",
    "for K in range(3,31,2):\n",
    "    nbrs = NearestNeighbors(n_neighbors=K, algorithm='ball_tree').fit(X_train)\n",
    "    distances, indices = nbrs.kneighbors(X_test)\n",
    "    y_pred = np.zeros(shape=y_test.shape)\n",
    "    for sample,ind in enumerate(indices):\n",
    "        ctr = {0:0,1:0}\n",
    "        for i in ind:\n",
    "            ctr[y_train[i]]+=1\n",
    "        y_pred[sample] = 1 if ctr[0]<ctr[1] else 0\n",
    "    \n",
    "    acc.append(accuracy_score(y_test,y_pred))\n",
    "\n",
    "print(\"Max Accuracy: \",max(acc))\n"
   ]
  },
  {
   "cell_type": "code",
   "execution_count": 56,
   "metadata": {},
   "outputs": [
    {
     "data": {
      "image/png": "[encoded data removed]",
      "text/plain": [
       "<Figure size 750x350 with 1 Axes>"
      ]
     },
     "metadata": {},
     "output_type": "display_data"
    }
   ],
   "source": [
    "\n",
    "import matplotlib.pyplot as plt\n",
    "\n",
    "K = range(3,31,2)\n",
    "\n",
    "ymax = max(acc)\n",
    "xmax = K[np.argmax(acc)]\n",
    "\n",
    "fig, ax = plt.subplots()\n",
    "ax.plot(K, acc)\n",
    "\n",
    "\n",
    "text= \"K={}, accuracy={:.3f}\".format(xmax, ymax)\n",
    "if not ax:\n",
    "    ax=plt.gca()\n",
    "bbox_props = dict(boxstyle=\"square,pad=0.3\", fc=\"w\", ec=\"k\", lw=0.22)\n",
    "arrowprops=dict(arrowstyle=\"->\",connectionstyle=\"angle,angleA=30\")\n",
    "kw = dict(xycoords='data',textcoords=\"axes fraction\",\n",
    "            arrowprops=arrowprops, bbox=bbox_props, ha=\"right\", va=\"top\")\n",
    "ax.annotate(text, xy=(xmax, ymax), xytext=(0.4,0.96), **kw)\n",
    "\n",
    "# annot_max(K,acc)\n",
    "plt.show()"
   ]
  },
  {
   "cell_type": "markdown",
   "metadata": {
    "id": "vSufXze8zmV3"
   },
   "source": [
    "## Part-2\n",
    "Vectorize tweets based on the text. More details and reference links can be checked on the Tasks list in the start of the notebook"
   ]
  },
  {
   "cell_type": "code",
   "execution_count": 63,
   "metadata": {
    "id": "GBizLGhg0kQT"
   },
   "outputs": [
    {
     "name": "stdout",
     "output_type": "stream",
     "text": [
      "RT @ABC: NEW: Alan Alda -- the Emmy Award-winning actor who starred in the long-running series \"M.A.S.H.\" -- announces that he has Parkinsoâ€¦\n",
      "ABC NEW Alan Alda the Emmy Award winning actor who starred in the long running series \"M A S H \" announces that he has Parkinso\n",
      "(11099, 27677)\n",
      "(11099, 27677)\n"
     ]
    }
   ],
   "source": [
    "from sklearn.feature_extraction.text import TfidfVectorizer,CountVectorizer\n",
    "import re\n",
    "\"\"\"\n",
    "Funtion to return a matrix of dimensions (number of tweets, number of features extracted per tweet)\n",
    "Following are the steps for be followed:\n",
    "  1. Remove links, tags and hashtags from each tweet.\n",
    "  2. Apply TF-IDF on the tweets to extract a vector. \n",
    "  3. Perform dimensionality reduction on the obtained vector. \n",
    "Input parameters to this funcion are to be chosen as per requirement (Example: Array of tweets) \n",
    "\"\"\"\n",
    "  # your code here\n",
    "\n",
    "X_content = np.squeeze(X_content)\n",
    "X_filtered = []\n",
    "print(X_content[26])\n",
    "for i,x in enumerate(X_content):\n",
    "  x = ' '.join(re.sub(\"([^0-9A-Za-z\\\" \\t])|(@[a-zA-Z0-9]+)|(RT)|(\\w+:\\/\\/\\S+)\",\" \",x).split())  # remove emojis/hashtags, tags and links\n",
    "  X_filtered.append(x)\n",
    "\n",
    "print(X_filtered[26])\n",
    "tfidfvectorizer = TfidfVectorizer(analyzer='word',stop_words= 'english')\n",
    "X_tfidf = tfidfvectorizer.fit_transform(X_filtered)\n",
    "print(X_tfidf.shape)\n",
    "\n",
    "from sklearn.decomposition import PCA\n",
    "from sklearn.preprocessing import StandardScaler\n",
    "\n",
    "scalar = StandardScaler()\n",
    "X_scaled = scalar.fit_transform(X_tfidf.toarray())\n",
    "print(X_scaled.shape)\n",
    "\n",
    "pca = PCA(n_components=100)\n",
    "pca.fit(X_scaled)\n",
    "X_pca = pca.transform(X_scaled)"
   ]
  },
  {
   "cell_type": "code",
   "execution_count": 64,
   "metadata": {},
   "outputs": [
    {
     "name": "stdout",
     "output_type": "stream",
     "text": [
      "(11099, 100)\n",
      "(11099, 1)\n"
     ]
    }
   ],
   "source": [
    "print(X_pca.shape)\n",
    "print(Y.shape)"
   ]
  },
  {
   "cell_type": "markdown",
   "metadata": {
    "id": "3Q47SVkv9VzO"
   },
   "source": [
    "Perform KNN using the vector obtained from tweet_vectoriser() function. Following are the steps to be followed:\n",
    "\n",
    "1. Normalise the vectors\n",
    "2. Split the data into training and test to estimate the performance.\n",
    "3. Fit the Nearest Neughbiurs module to the training data and obtain the predicted class by getting the nearest neighbours on the test data.\n",
    "4. Report the accuracy, chosen k-value and method used to obtain the predicted class. Hint: Plot accuracies for a range of k-values."
   ]
  },
  {
   "cell_type": "code",
   "execution_count": 65,
   "metadata": {
    "id": "7aDr7vAW-NX_"
   },
   "outputs": [
    {
     "name": "stdout",
     "output_type": "stream",
     "text": [
      "(8324, 100)\n"
     ]
    }
   ],
   "source": [
    "# your code here\n",
    "\n",
    "X_normed = (X_pca - X_pca.min(0)) / X_pca.ptp(0)\n",
    "from sklearn.model_selection import train_test_split\n",
    "X_train, X_test, y_train, y_test = train_test_split(X_normed, np.squeeze(Y), test_size=0.25)\n",
    "print(X_train.shape)\n",
    "y_train = y_train.to_numpy()\n"
   ]
  },
  {
   "cell_type": "code",
   "execution_count": 62,
   "metadata": {},
   "outputs": [
    {
     "name": "stdout",
     "output_type": "stream",
     "text": [
      "Collecting tqdm"
     ]
    },
    {
     "name": "stderr",
     "output_type": "stream",
     "text": [
      "  WARNING: The script tqdm.exe is installed in 'C:\\Users\\ani_d\\AppData\\Local\\Packages\\PythonSoftwareFoundation.Python.3.10_qbz5n2kfra8p0\\LocalCache\\local-packages\\Python310\\Scripts' which is not on PATH.\n",
      "  Consider adding this directory to PATH or, if you prefer to suppress this warning, use --no-warn-script-location.\n"
     ]
    },
    {
     "name": "stdout",
     "output_type": "stream",
     "text": [
      "\n",
      "  Downloading tqdm-4.64.1-py2.py3-none-any.whl (78 kB)\n",
      "     ---------------------------------------- 78.5/78.5 kB 1.1 MB/s eta 0:00:00\n",
      "Requirement already satisfied: colorama in c:\\users\\ani_d\\appdata\\local\\packages\\pythonsoftwarefoundation.python.3.10_qbz5n2kfra8p0\\localcache\\local-packages\\python310\\site-packages (from tqdm) (0.4.6)\n",
      "Installing collected packages: tqdm\n",
      "Successfully installed tqdm-4.64.1\n"
     ]
    }
   ],
   "source": [
    "!pip install tqdm"
   ]
  },
  {
   "cell_type": "code",
   "execution_count": 67,
   "metadata": {},
   "outputs": [
    {
     "name": "stderr",
     "output_type": "stream",
     "text": [
      "100%|██████████| 14/14 [00:38<00:00,  2.75s/it]"
     ]
    },
    {
     "name": "stdout",
     "output_type": "stream",
     "text": [
      "Max Accuracy:  0.9264864864864865\n"
     ]
    },
    {
     "name": "stderr",
     "output_type": "stream",
     "text": [
      "\n"
     ]
    }
   ],
   "source": [
    "# print(indices.shape)\n",
    "from tqdm import tqdm\n",
    "text_acc = []\n",
    "for K in tqdm(range(3,31,2)):\n",
    "    nbrs = NearestNeighbors(n_neighbors=K, algorithm='ball_tree').fit(X_train)\n",
    "    distances, indices = nbrs.kneighbors(X_test)\n",
    "    y_pred = np.zeros(shape=y_test.shape)\n",
    "    for sample,ind in enumerate(indices):\n",
    "        ctr = {0:0,1:0}\n",
    "        for i in ind:\n",
    "            ctr[y_train[i]]+=1\n",
    "        y_pred[sample] = 1 if ctr[0]<ctr[1] else 0\n",
    "\n",
    "    text_acc.append(accuracy_score(y_test,y_pred))\n",
    "\n",
    "print(\"Max Accuracy: \",max(text_acc))\n",
    "# score = 0\n",
    "# total = len(y_test)\n",
    "# for i in range(total):\n",
    "#     if (y_train[i]==y_pred[i]):\n",
    "#         score+=1\n",
    "\n",
    "# print(score/total)"
   ]
  },
  {
   "cell_type": "code",
   "execution_count": 69,
   "metadata": {},
   "outputs": [
    {
     "data": {
      "image/png": "[encoded data removed]",
      "text/plain": [
       "<Figure size 750x350 with 1 Axes>"
      ]
     },
     "metadata": {},
     "output_type": "display_data"
    }
   ],
   "source": [
    "# Plotting accuracy\n",
    "\n",
    "K = range(3,31,2)\n",
    "ymax = max(text_acc)\n",
    "xmax = K[np.argmax(text_acc)]\n",
    "\n",
    "fig, ax = plt.subplots()\n",
    "ax.plot(K, text_acc)\n",
    "\n",
    "\n",
    "text= \"K={}, accuracy={:.3f}\".format(xmax, ymax)\n",
    "if not ax:\n",
    "    ax=plt.gca()\n",
    "bbox_props = dict(boxstyle=\"square,pad=0.3\", fc=\"w\", ec=\"k\", lw=0.22)\n",
    "arrowprops=dict(arrowstyle=\"->\",connectionstyle=\"angle,angleA=30\")\n",
    "kw = dict(xycoords='data',textcoords=\"axes fraction\",\n",
    "            arrowprops=arrowprops, bbox=bbox_props, ha=\"right\", va=\"top\")\n",
    "ax.annotate(text, xy=(xmax, ymax), xytext=(0.4,0.96), **kw)\n",
    "\n",
    "# annot_max(K,acc)\n",
    "plt.show()"
   ]
  },
  {
   "cell_type": "markdown",
   "metadata": {
    "id": "Rg7hD8-O3PbO"
   },
   "source": [
    "## Part-3\n",
    "### Subpart-1"
   ]
  },
  {
   "cell_type": "markdown",
   "metadata": {
    "id": "Bp9TVeVD9lKe"
   },
   "source": [
    "Combine both the vectors obtained from the tweet_vectoriser() and get_features()"
   ]
  },
  {
   "cell_type": "code",
   "execution_count": 70,
   "metadata": {
    "id": "r5ksyj7_3_xl"
   },
   "outputs": [
    {
     "name": "stdout",
     "output_type": "stream",
     "text": [
      "(11099, 7) (11099, 100)\n",
      "(11099, 15)\n"
     ]
    }
   ],
   "source": [
    "# your code here\n",
    "#We observe that features on the metadata give better accuracy, we take K=3 from the above experiments\n",
    "# X_meta --> samples with metadata as features, X_normed --> samples with text vector as features\n",
    "\n",
    "print(X_meta.shape, X_normed.shape)\n",
    "#further dimensionality reduction on text to make lower weightage\n",
    "pca = PCA(n_components=15)\n",
    "pca.fit(X_normed)\n",
    "X_text = pca.transform(X_normed)\n",
    "print(X_text.shape)\n"
   ]
  },
  {
   "cell_type": "code",
   "execution_count": 71,
   "metadata": {},
   "outputs": [
    {
     "name": "stdout",
     "output_type": "stream",
     "text": [
      "(11099, 22)\n"
     ]
    }
   ],
   "source": [
    "X_combined = np.concatenate((X_text,X_meta),axis=1)\n",
    "print(X_combined.shape)"
   ]
  },
  {
   "cell_type": "markdown",
   "metadata": {
    "id": "swCD5Jp69xo5"
   },
   "source": [
    "Perform KNN using the vector obtained in the previous step. Following are the steps to be followed:\n",
    "\n",
    "1. Normalise the vectors\n",
    "2. Split the data into training and test to estimate the performance.\n",
    "3. Fit the Nearest Neughbiurs module to the training data and obtain the predicted class by getting the nearest neighbours on the test data.\n",
    "4. Report the accuracy, chosen k-value and method used to obtain the predicted class. Hint: Plot accuracies for a range of k-values."
   ]
  },
  {
   "cell_type": "code",
   "execution_count": 79,
   "metadata": {
    "id": "rufknWgo4AvY"
   },
   "outputs": [
    {
     "name": "stdout",
     "output_type": "stream",
     "text": [
      "K=12, Accuracy = 96.216%\n"
     ]
    }
   ],
   "source": [
    "# your code here\n",
    "\n",
    "y_combined = np.squeeze(Y)\n",
    "X_train, X_test, y_train, y_test = train_test_split(X_combined, y_combined, test_size=0.25)\n",
    "# since both types of KNN have local peaks at 12, we choose K=12\n",
    "nbrs = NearestNeighbors(n_neighbors=12, algorithm='ball_tree').fit(X_train)\n",
    "distances, indices = nbrs.kneighbors(X_test)\n",
    "y_train = y_train.to_numpy()\n",
    "y_pred = np.zeros(shape=y_test.shape)\n",
    "\n",
    "for sample,ind in enumerate(indices):\n",
    "    ctr = {0:0,1:0}\n",
    "    for i in ind:\n",
    "        ctr[y_train[i]]+=1\n",
    "    y_pred[sample] = 1 if ctr[0]<ctr[1] else 0\n",
    "\n",
    "\n",
    "# score = 0\n",
    "# total = len(y_test)\n",
    "# for i in range(total):\n",
    "#     if (y_test[i]==y_pred[i]):\n",
    "#         score+=1\n",
    "\n",
    "print(f\"K=12, Accuracy = {accuracy_score(y_test,y_pred)*100:.3f}%\")\n",
    "\n",
    "#CHOSEN K-value = 3"
   ]
  },
  {
   "cell_type": "markdown",
   "metadata": {
    "id": "1NVQLLhE3c79"
   },
   "source": [
    "### Subpart-2\n",
    "\n",
    "Explain the differences between the accuracies obtained in each part above based on the features used."
   ]
  },
  {
   "attachments": {},
   "cell_type": "markdown",
   "metadata": {
    "id": "VkiTeqaE_4ic"
   },
   "source": [
    "The feature variables such as retweet counts and user follower counts have a more significant influence on whether the tweet is likely to be popular or not. Thus using the metadata gives a higher accuracy in the classification. Also for lower value of K it gives higher accuracy, likely because there are only 2 classes and several features in the data, higher number of neighbours likely makes the training more noisy."
   ]
  }
 ],
 "metadata": {
  "colab": {
   "provenance": []
  },
  "kernelspec": {
   "display_name": "Python 3",
   "language": "python",
   "name": "python3"
  },
  "language_info": {
   "codemirror_mode": {
    "name": "ipython",
    "version": 3
   },
   "file_extension": ".py",
   "mimetype": "text/x-python",
   "name": "python",
   "nbconvert_exporter": "python",
   "pygments_lexer": "ipython3",
   "version": "3.10.9"
  },
  "vscode": {
   "interpreter": {
    "hash": "b1de4ff2211fa41cac98f57f6e09087ddd98c9b04c863cfd8acb24d1980dfbc2"
   }
  }
 },
 "nbformat": 4,
 "nbformat_minor": 4
}
